{
 "cells": [
  {
   "cell_type": "markdown",
   "metadata": {},
   "source": [
    "# Matrices as Linear Maps\n",
    "\n",
    "Many of us have encountered with matrices. People having worked on data know that they represent essentially data itself, whereas for many of us, definition of matrices dates way back to our high school classes. We all heard about the multiplication rule that goes as follow: \n",
    "- <span style=\"color:blue\">Iterate through rows of the first matrix</span>.\n",
    "    - <span style=\"color:green\">Iterate through the column of the second matrix</span>.\n",
    "        - <span style=\"color:purple\">Multipy row of the first matrix and the column of the second matrix</span>.\n",
    "\n",
    "<center><img src=\"//upload.wikimedia.org/wikipedia/commons/thumb/e/e5/MatrixMultiplication.png/300px-MatrixMultiplication.png\" width=\"400\" height=\"360\"></center>\n",
    "\n",
    "\n",
    "In this post, I want to show you that there is more to what matrices represent and essentially how they work as linear maps. Enjoy reading and see you at the finish line!"
   ]
  },
  {
   "cell_type": "markdown",
   "metadata": {
    "id": "sbw__i1hJyce"
   },
   "source": [
    "## Functions \n",
    "\n",
    "In order to understand matrices and how they represent linear transformation on inputs, we first need to understand how functions work and what they represent from a broader perspective.\n",
    "\n",
    "A way to understand and visualize functions is to draw venn diagram. Here each of the function takes a value from *domain* and outputs a value in *codomain*. They represent a mapping between spaces.\n",
    "\n",
    "<center><img src=\"//upload.wikimedia.org/wikipedia/commons/thumb/3/38/Example_for_a_composition_of_two_functions.svg/249px-Example_for_a_composition_of_two_functions.svg.png\" width=\"249\" height=\"300\"></center>\n",
    "\n",
    "Another way to understand functions is to show a table where columns represent input and output.\n",
    "\n",
    "\n",
    "|   \t|   \t|   \t|   \t| x \t|   \t|   \t|   \t|   \t| f(x) \t|   \t|   \t|   \t|   \t|\n",
    "|---\t|---\t|---\t|---\t|:-:\t|---\t|---\t|---\t|:-:\t|------\t|---\t|---\t|---\t|---\t|\n",
    "|   \t|   \t|   \t|   \t| 1 \t|   \t|   \t|   \t|   \t|   3  \t|   \t|   \t|   \t|   \t|\n",
    "|   \t|   \t|   \t|   \t| 2 \t|   \t|   \t|   \t|   \t|   6  \t|   \t|   \t|   \t|   \t|\n",
    "|   \t|   \t|   \t|   \t| 3 \t|   \t|   \t|   \t|   \t|   9  \t|   \t|   \t|   \t|   \t|\n",
    "\n",
    "This is a good representation in order to understand the affect of the function on the inputs. We can also create a simpler form of the function so that it is easier for us to use it in combination with other functions or inputs in general. \n",
    "\n",
    "$ f(x) = 3x $. This representation is powerful in a sense that we can use it in combination with other functions.\n",
    "\n",
    "## Combination of Functions \n",
    "\n",
    "\n",
    "Assume that we have a function $ h(x)=5x $ and we want to somehow apply the function $f(x)$, get the output and apply function $h(x)$ and get the result. Let's understand this mapping and observe the affect of this combination of functions on different values!\n",
    "\n",
    "|   \t|   \t|   \t|   \t| x \t|   \t|   \t|   \t|   \t| f(x) \t|   \t|   \t|   \t|   \t| h(x) \t|   \t|   \t|   \t|   \t|\n",
    "|---\t|---\t|---\t|---\t|:-:\t|---\t|---\t|---\t|:-:\t|------\t|---\t|---\t|---\t|---\t|------\t|---\t|---\t|---\t|---\t|\n",
    "|   \t|   \t|   \t|   \t| 1 \t|   \t|   \t|   \t|   \t|   3  \t|   \t|   \t|   \t|   \t|  15  \t|   \t|   \t|   \t|   \t|\n",
    "|   \t|   \t|   \t|   \t| 2 \t|   \t|   \t|   \t|   \t|   6  \t|   \t|   \t|   \t|   \t|  30  \t|   \t|   \t|   \t|   \t|\n",
    "|   \t|   \t|   \t|   \t| 3 \t|   \t|   \t|   \t|   \t|   9  \t|   \t|   \t|   \t|   \t|  45  \t|   \t|   \t|   \t|   \t|\n",
    "\n",
    "$$ h(x)=5x \\\\ h(f(x))=5f(x) \\\\ h(f(x))=15x $$\n",
    "\n",
    "We can describe combination of functions for any arbitrary input. Right representation allows to understand the affect of the function on inputs and use it with other functions.\n",
    "\n",
    "## Linear Maps\n",
    "\n",
    "Let's now focus on specific type of functions: [Linear Maps](https://en.wikipedia.org/wiki/Linear_map). Without going into too much detail, these type of functions have very useful properties that preserve the operations applied on them: \n",
    "\n",
    "**Operation of Addition** \n",
    "\n",
    "$ f(x+y)=f(x)+f(y)$ <br/>\n",
    "\n",
    "**Operation of Scalar Multiplication** \n",
    "\n",
    "$ f(c*x)=c*f(x)$\n",
    "\n",
    "A linear map is *operation preserving*. It doesn't matter if linear map is applied before the operation or after the operation on the inputs. That is we will get the same result by applying function $f(x)$ on $x+y$ or $f(x)$ applied on $x$ and $y$ individually then adding them. Assume once again that $f(x)=3x$ then the following holds:\n",
    "\n",
    "$f(x+y)=3(x+y)=3x+3y=3f(x)+3f(y)$ \n",
    "\n",
    "$f(3x)=3(3x)=3*3(x)=3*f(x)$\n",
    "\n",
    "Okay, we now know that linear mappings have some nice properties but what is so special about them? Mathematicians discovered that these transformations can model a lot of the phenomenon in statistics, physics and machine learning space. Especially rotations and scalings are linear maps that transform data points either by scaling or rotating around a point and this is very powerful. [Dimensionality reduction](https://en.wikipedia.org/wiki/Principal_component_analysis) is an area of machine learning where you see linear mappings applied quite often. [Change of basis](https://en.wikipedia.org/wiki/Change_of_basis#:~:text=A%20change%20of%20basis%20consists,relative%20to%20the%20other%20basis) is another concept that heavily uses linear transformations.\n",
    "\n",
    "- Change of Basis\n",
    "\n",
    "Functions that maps input vectors from one vector space to another\n",
    "\n",
    "<center><img src=\"//upload.wikimedia.org/wikipedia/commons/thumb/5/59/3d_basis_transformation.svg/290px-3d_basis_transformation.svg.png\" width=\"400\" height=\"360\"></center>\n",
    "\n",
    "Don't worry if you don't recognize these terms, the important thing to remember here is that functions act as linear maps that transform data points in N dimensional spaces. Keep reading to see how matrices can do that..."
   ]
  },
  {
   "cell_type": "code",
   "execution_count": 5,
   "metadata": {},
   "outputs": [],
   "source": [
    "import sys\n",
    "sys.path.append('../../../scripts/')\n",
    "from plot_helper import *\n"
   ]
  },
  {
   "cell_type": "markdown",
   "metadata": {},
   "source": [
    "## How to Represent Linear Maps\n",
    "\n",
    "Now we grasp linear maps and how these functions can transform shapes, we will see how we can represent them.\n",
    "\n",
    "### 1D\n",
    "\n",
    "We already see that we can represent linear maps as functions that map inputs to outputs while preserving addition and multiplication operations. Assuming $f(x)=3x$, we know that this function scales points in 1D.\n",
    "\n",
    "### 2D\n",
    "\n",
    "I will start to differentiate between notations, where $x$ represent 1D point and $\\mathbf{x}$ represent N dimensional vector of points. Now the question becomes how can we scale $\\color{green}{\\begin{bmatrix}1\\\\0\\end{bmatrix}}$ or $\\color{red}{\\begin{bmatrix}0\\\\1\\end{bmatrix}}$? Let's define a linear map $f(\\mathbf{x})$ that stretches a vector's width by 2 and height by 3 and see how it transforms standard unit vectors. Let's visualize the unit vectors first.\n",
    "\n",
    "\n"
   ]
  },
  {
   "cell_type": "code",
   "execution_count": 6,
   "metadata": {},
   "outputs": [
    {
     "data": {
      "image/png": "[encoded data removed]",
      "text/plain": [
       "<Figure size 400x400 with 1 Axes>"
      ]
     },
     "metadata": {
      "needs_background": "light"
     },
     "output_type": "display_data"
    }
   ],
   "source": [
    "input_vector = [numpy.array([1,0]),numpy.array([0,1])]\n",
    "plot_vector(input_vector)"
   ]
  },
  {
   "cell_type": "markdown",
   "metadata": {},
   "source": [
    "We want to know what happens to standard vectors $\\color{green}{\\begin{bmatrix}1\\\\0\\end{bmatrix}}$ , $\\color{red}{\\begin{bmatrix}0\\\\1\\end{bmatrix}}$\n",
    "\n",
    "$$ f(\\color{green}{\\begin{bmatrix}1\\\\0\\end{bmatrix}}) = \\begin{bmatrix}2\\\\0\\end{bmatrix} \\\\ f(\\color{red}{\\begin{bmatrix}0\\\\1\\end{bmatrix}}) = \\begin{bmatrix}0\\\\3\\end{bmatrix}$$"
   ]
  },
  {
   "cell_type": "code",
   "execution_count": 7,
   "metadata": {},
   "outputs": [
    {
     "data": {
      "image/png": "[encoded data removed]",
      "text/plain": [
       "<Figure size 800x400 with 2 Axes>"
      ]
     },
     "metadata": {
      "needs_background": "light"
     },
     "output_type": "display_data"
    }
   ],
   "source": [
    "A = numpy.array([[2,0], [0,3]])\n",
    "plot_linear_transformation(A)"
   ]
  },
  {
   "cell_type": "markdown",
   "metadata": {},
   "source": [
    "As you can see in the graph above, we just transformed our standard vectors. Can we transform new vector $\\begin{bmatrix}3\\\\4\\end{bmatrix}$ based on how we transform standard unit vectors? The answer is yes!\n",
    "\n",
    "We can clearly express the vector as a combination of standard unit vectors:\n",
    "\n",
    "$$\\begin{bmatrix}\\color{green}3\\\\\\color{red}4\\end{bmatrix} = 3\\begin{bmatrix}\\color{green}1\\\\0\\end{bmatrix} + 4\\begin{bmatrix}0\\\\\\color{red}1\\end{bmatrix}$$\n",
    "\n",
    "We also know by now that linear maps are *operation preserving* and we know the affect of the transformation on standard unit vectors. Then\n",
    "\n",
    "$$ f(\\begin{bmatrix}\\color{green}3\\\\\\color{red}4\\end{bmatrix}) = f(\\begin{bmatrix}\\color{green}3\\\\0\\end{bmatrix}) + f(\\begin{bmatrix}0\\\\\\color{red}4\\end{bmatrix})\\\\=3f(\\color{green}{\\begin{bmatrix}1\\\\0\\end{bmatrix}}) + 4f(\\color{red}{\\begin{bmatrix}0\\\\1\\end{bmatrix}})\\\\=3\\color{green}{\\begin{bmatrix}2\\\\0\\end{bmatrix}}+4\\color{red}{\\begin{bmatrix}0\\\\3\\end{bmatrix}}\\\\=\\color{green}{\\begin{bmatrix}6\\\\0\\end{bmatrix}}+\\color{red}{\\begin{bmatrix}0\\\\12\\end{bmatrix}}\\\\={\\begin{bmatrix}6\\\\12\\end{bmatrix}}$$\n",
    "\n",
    "Great! We were able to get transformation on $\\begin{bmatrix}\\color{green}3\\\\\\color{red}4\\end{bmatrix}$ by knowing transformations on $f(\\color{green}{\\begin{bmatrix}1\\\\0\\end{bmatrix}})$ and $f(\\color{red}{\\begin{bmatrix}0\\\\1\\end{bmatrix}})$."
   ]
  },
  {
   "cell_type": "markdown",
   "metadata": {},
   "source": [
    "## Matrices\n",
    "\n",
    "How can we represent the linear map $f(\\mathbf{x})$ on vector inputs? Is there an easy way to represent the transformation so that we can apply this transformation in combination with others? \n",
    "\n",
    "The answer is matrices. Now we can see connnection between linear maps and matrices. Let $\\mathbf{A}$ represent this transformation, then we can get the transformation by transformed standard unit vectors:\n",
    "\n",
    "$$\\mathbf{A}={\\begin{bmatrix}f(\\color{green}{\\begin{bmatrix}1\\\\0\\end{bmatrix}}) f(\\color{red}{\\begin{bmatrix}0\\\\1\\end{bmatrix}})\\end{bmatrix}}\\\\={\\begin{bmatrix}\\color{green}2&\\color{red}0\\\\\\color{green}0&\\color{red}3\\end{bmatrix}}$$\n",
    "\n",
    "We can now apply this transformation to any vector input and get the transformed vector. Just like functions $f(x)$, we now get a linear map $f(\\mathbf{x})$ which given input transforms and outputs the result. Did you recognize the following formula $\\mathbf{\\hat{y}}=\\mathbf{X}\\boldsymbol{\\theta}$? This is formula of linear regression and now you can observe that the right handside of formula ${\\boldsymbol{\\theta}}$ is transformed by ${\\mathbf{X}}$.\n",
    "\n",
    "### Transformation\n",
    "\n",
    "Let's apply transformation matrix $\\mathbf{A}={\\begin{bmatrix}2&0\\\\0&3\\end{bmatrix}}$ to vector $\\mathbf{x}=\\begin{bmatrix}3\\\\4\\end{bmatrix}$ and see the result. \n",
    "\n",
    "$$\\mathbf{A}\\mathbf{x}=\\begin{bmatrix}(2x3)+(0x4)\\\\(0x3)+(3x4)\\end{bmatrix}=\\begin{bmatrix}6\\\\12\\end{bmatrix}$$\n",
    "\n",
    "We see that the result is the same result we get earlier. We are now convinced that the transformation matrices when multiplied with a vector $\\mathbf{x}$ transform the vector and output another vector, just like functions.\n",
    "\n",
    "We can also see transformation visually!"
   ]
  },
  {
   "cell_type": "code",
   "execution_count": 8,
   "metadata": {},
   "outputs": [
    {
     "data": {
      "image/png": "[encoded data removed]",
      "text/plain": [
       "<Figure size 400x400 with 1 Axes>"
      ]
     },
     "metadata": {
      "needs_background": "light"
     },
     "output_type": "display_data"
    }
   ],
   "source": [
    "import numpy as np\n",
    "A = np.array([[2,0],[0,3]])\n",
    "new_vector = A.dot(np.array([3,4]))\n",
    "plot_vector([new_vector])"
   ]
  },
  {
   "cell_type": "markdown",
   "metadata": {},
   "source": [
    "## Interactive Plot\n",
    "\n",
    "Now that we know linear maps and how they perform transformations, let's have some interactive experience with various transformation matrices. Play with the interactive plot below to see transformation in action!\n",
    "\n",
    "$$\\mathbf{A}=\\begin{bmatrix}x_o&y_o\\\\x_1&y_1\\end{bmatrix}$$\n"
   ]
  },
  {
   "cell_type": "code",
   "execution_count": 9,
   "metadata": {},
   "outputs": [
    {
     "data": {
      "application/vnd.jupyter.widget-view+json": {
       "model_id": "dbb29723106a4565b697e27128547320",
       "version_major": 2,
       "version_minor": 0
      },
      "text/plain": [
       "interactive(children=(FloatSlider(value=0.0, description='x_0', max=2.0, min=-2.0, step=0.5), FloatSlider(valu…"
      ]
     },
     "metadata": {},
     "output_type": "display_data"
    },
    {
     "data": {
      "text/plain": [
       "<function __main__.transform_plot(x_0, x_1, y_0, y_1)>"
      ]
     },
     "execution_count": 9,
     "metadata": {},
     "output_type": "execute_result"
    }
   ],
   "source": [
    "from ipywidgets import interact, interactive, fixed\n",
    "import ipywidgets as widgets\n",
    "from IPython.display import clear_output, display, HTML\n",
    "import matplotlib.pyplot as plt\n",
    "%matplotlib inline\n",
    "\n",
    "\n",
    "def transform_plot(x_0, x_1, y_0, y_1):\n",
    "    figure, (axis1, axis2) = plt.subplots(1, 2, figsize=(8,6))\n",
    "\n",
    "    x_positive = np.arange(-1,1.1,0.1)\n",
    "    y_positive = np.arange(0,1.1,0.1)\n",
    "    y_negative = np.arange(-1,0,0.1)\n",
    "\n",
    "    y_all_negative = [[],[]]\n",
    "    y_all_positive = [[],[]]\n",
    "    for x_val in x_positive:\n",
    "        for y_val in y_positive:\n",
    "            y_all_positive[0].append(x_val)\n",
    "            y_all_positive[1].append(y_val)\n",
    "        for y_val in y_negative:\n",
    "            y_all_negative[0].append(x_val)\n",
    "            y_all_negative[1].append(y_val)\n",
    "\n",
    "    axis1.plot(y_all_negative[0],y_all_negative[1],\"oy\")\n",
    "    axis1.plot(y_all_positive[0],y_all_positive[1],\"ob\")\n",
    "    axis1.set_title(\"Before Transformation\")\n",
    "\n",
    "    A = np.array([[x_0,y_0],[x_1,y_1]])\n",
    "    transformed_y_negative = A.dot(np.stack([y_all_negative[0],y_all_negative[1]]))[1:][0]\n",
    "    transformed_x_negative = A.dot(np.stack([y_all_negative[0],y_all_negative[1]]))[0:][0]\n",
    "    transformed_y_positive = A.dot(np.stack([y_all_positive[0],y_all_positive[1]]))[1:][0]\n",
    "    transformed_x_positive = A.dot(np.stack([y_all_positive[0],y_all_positive[1]]))[0:][0]\n",
    "    axis2.plot(transformed_x_negative,transformed_y_negative,\"oy\")\n",
    "    axis2.plot(transformed_x_positive,transformed_y_positive,\"ob\")\n",
    "    axis2.set_title(\"After Transformation\")\n",
    "\n",
    "interact(transform_plot, x_0=(-2,2,0.5), x_1=(-2,2,0.5), y_0=(-2,2,0.5), y_1=(-2,2,0.5))"
   ]
  },
  {
   "cell_type": "code",
   "execution_count": 10,
   "metadata": {},
   "outputs": [],
   "source": [
    "from bokeh.layouts import column,row\n",
    "from bokeh.models import ColumnDataSource, CustomJS, Slider\n",
    "from bokeh.plotting import Figure, output_file, show,save\n",
    "import numpy as np\n",
    "\n",
    "output_file(\"js_on_change.html\")\n",
    "\n",
    "x = [x for x in np.arange(-1,1.1,0.1)]\n",
    "y1 = [y for y in np.arange(0,1.1,0.1)]\n",
    "y2 = [y for y in np.arange(-1,0,0.1)]\n",
    "\n",
    "\n",
    "y_all_negative = [[],[]]\n",
    "y_all_positive = [[],[]]\n",
    "for x_val in x:\n",
    "    for y_val in y1:\n",
    "        y_all_positive[0].append(x_val)\n",
    "        y_all_positive[1].append(y_val)\n",
    "    for y_val in y2:\n",
    "        y_all_negative[0].append(x_val)\n",
    "        y_all_negative[1].append(y_val)\n",
    "\n",
    "source_positive_initial = ColumnDataSource(data=dict(x=y_all_positive[0], y=y_all_positive[1]))\n",
    "source_negative_initial = ColumnDataSource(data=dict(x=y_all_negative[0], y=y_all_negative[1]))\n",
    "\n",
    "source_positive_transformed = ColumnDataSource(data=dict(x=y_all_positive[0], y=y_all_positive[1]))\n",
    "source_negative_transformed = ColumnDataSource(data=dict(x=y_all_negative[0], y=y_all_negative[1]))\n",
    "\n",
    "plot_initial = Figure(width=400, height=400)\n",
    "plot_initial.toolbar_location = None\n",
    "plot_initial.circle('x', 'y', source=source_positive_initial, line_width=3, line_alpha=0.6, color='blue')\n",
    "plot_initial.circle('x', 'y', source=source_negative_initial, line_width=3, line_alpha=0.6, color='yellow')\n",
    "plot_initial.title.text = \"Before Transformation\"\n",
    "plot_initial.title.align = \"center\"\n",
    "\n",
    "plot_transformed = Figure(width=400, height=400)\n",
    "plot_transformed.toolbar_location = None\n",
    "plot_transformed.circle('x', 'y', source=source_positive_transformed, line_width=3, line_alpha=0.6, color='blue')\n",
    "plot_transformed.circle('x', 'y', source=source_negative_transformed, line_width=3, line_alpha=0.6, color='yellow')\n",
    "plot_transformed.title.text = \"After Transformation\"\n",
    "plot_transformed.title.align = \"center\"\n",
    "\n",
    "slider_x0 = Slider(start=-2, end=2, value=0, step=.5, title=\"x0\")\n",
    "slider_x1 = Slider(start=-2, end=2, value=0, step=.5, title=\"x1\")\n",
    "slider_y0 = Slider(start=-2, end=2, value=0, step=.5, title=\"y0\")\n",
    "slider_y1 = Slider(start=-2, end=2, value=0, step=.5, title=\"y1\")\n",
    "\n",
    "apply_transformation = CustomJS(args=dict(source_positive_transformed=source_positive_transformed,\n",
    "                                          source_negative_transformed=source_negative_transformed,\n",
    "                                          source_positive_initial=source_positive_initial,\n",
    "                                          source_negative_initial=source_negative_initial,\n",
    "                                          x0=slider_x0,x1=slider_x1,y0=slider_y0,y1=slider_y1), code=\"\"\"\n",
    "    var transformation_matrix = [[x0.value,y0.value],[x1.value,y1.value]];\n",
    "    var dot = (a, b) => a.map((x, i) => a[i] * b[i]).reduce((m, n) => m + n);\n",
    "    var x = source_positive_initial.data['x']\n",
    "    var y = source_positive_initial.data['y']\n",
    "    var new_x = []\n",
    "    var new_y = []\n",
    "    for (let i = 0; i < x.length; i++) {\n",
    "        new_x.push(dot(transformation_matrix[0],[x[i],y[i]]))\n",
    "        new_y.push(dot(transformation_matrix[1],[x[i],y[i]]))\n",
    "    }\n",
    "    source_positive_transformed.data['x'] = new_x\n",
    "    source_positive_transformed.data['y'] = new_y\n",
    "    \n",
    "    var x_1 = source_negative_initial.data['x']\n",
    "    var y_1 = source_negative_initial.data['y']\n",
    "    var new_x1 = []\n",
    "    var new_y1 = []\n",
    "    for (let i = 0; i < x.length; i++) {\n",
    "        new_x1.push(dot(transformation_matrix[0],[x_1[i],y_1[i]]))\n",
    "        new_y1.push(dot(transformation_matrix[1],[x_1[i],y_1[i]]))\n",
    "    }\n",
    "    source_negative_transformed.data['x'] = new_x1\n",
    "    source_negative_transformed.data['y'] = new_y1\n",
    "    \n",
    "    source_positive_transformed.change.emit();\n",
    "    source_negative_transformed.change.emit();\n",
    "    \n",
    "\"\"\")\n",
    "\n",
    "slider_x0.js_on_change('value', apply_transformation)\n",
    "slider_x1.js_on_change('value', apply_transformation)\n",
    "slider_y0.js_on_change('value', apply_transformation)\n",
    "slider_y1.js_on_change('value', apply_transformation)\n",
    "\n",
    "layout = row(column(slider_x0,slider_x1,plot_initial),column(slider_y0,slider_y1,plot_transformed))\n",
    "show(layout)"
   ]
  },
  {
   "cell_type": "markdown",
   "metadata": {},
   "source": [
    "## Wrap up \n",
    "\n",
    "In this post, we saw that matrices are just functions that perform some transformation on their inputs. Understanding how matrices transform input vectors is key to many ideas in machine learning! With that, we have reached the end of this post, we have covered a lot and I really enjoyed going over a few important concepts with you. I hope that you enjoy the post as well :) If you have any questions about the post or data science in general, you can find me on [Linkedin](https://www.linkedin.com/in/koseoglubaran). I would highly appreciate to get any comment, question or just to have a chat about data science and topics around it with you! See you at the next one..."
   ]
  }
 ],
 "metadata": {
  "colab": {
   "name": "03-04-More Matrices.ipynb",
   "provenance": []
  },
  "kernelspec": {
   "display_name": "Python 3",
   "language": "python",
   "name": "python3"
  },
  "language_info": {
   "codemirror_mode": {
    "name": "ipython",
    "version": 3
   },
   "file_extension": ".py",
   "mimetype": "text/x-python",
   "name": "python",
   "nbconvert_exporter": "python",
   "pygments_lexer": "ipython3",
   "version": "3.8.5"
  }
 },
 "nbformat": 4,
 "nbformat_minor": 1
}
