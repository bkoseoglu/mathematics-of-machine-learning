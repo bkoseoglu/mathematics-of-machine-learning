{
 "cells": [
  {
   "cell_type": "markdown",
   "metadata": {},
   "source": [
    "[In the last post](https://bkoseoglu.github.io/linear/algebra/2021/09/30/matrices-as-linear-maps.html), we looked at how we can represent linear maps as matrices and how we can operate with them to do basic operations like scaling and transformation. In this post, we will look at a special set of vectors called eigenvectors that are defined for a matrix. These are special set of vectors in a sense that they characterize the matrix itself. They are central to many machine learning algorithms like [dimensionality reduction](https://en.wikipedia.org/wiki/Principal_component_analysis). We will then look at an application of eigenvectors which we use frequently in our lives, [PageRank algorithm](http://ilpubs.stanford.edu:8090/422/1/1999-66.pdf)!\n"
   ]
  },
  {
   "cell_type": "markdown",
   "metadata": {
    "id": "sbw__i1hJyce"
   },
   "source": [
    "## Basis Vectors \n",
    "\n",
    "In order to understand eigenvectors and their function in characterizing the matrices, we first need to understand what basis vectors are. [In the last post](https://bkoseoglu.github.io/linear/algebra/2021/09/30/matrices-as-linear-maps.html), we already saw that matrices represent linear transformations.\n",
    "Let $\\mathbf{A}$ represents a transformation, we can get the transformation by transformed standard unit vectors:\n",
    "\n",
    "$$\\mathbf{A}={\\begin{bmatrix}f(\\color{green}{\\begin{bmatrix}1\\\\0\\end{bmatrix}}) f(\\color{red}{\\begin{bmatrix}0\\\\1\\end{bmatrix}})\\end{bmatrix}}\\\\={\\begin{bmatrix}\\color{green}2&\\color{red}0\\\\\\color{green}0&\\color{red}3\\end{bmatrix}}$$\n",
    "\n",
    "But why did we choose standard unit vectors $\\color{green}{\\begin{bmatrix}1\\\\0\\end{bmatrix}}$, $\\color{red}{\\begin{bmatrix}0\\\\1\\end{bmatrix}}$? The reason is that any vector can be written as combination of these two vectors, i.e these vectors span vector space $\\mathbf{R^2}$.\n",
    "\n",
    "$$\\mathbf{v}=\\sum\\limits_{j=1}^{n}\\lambda_j*\\mathbf{u_{j}}$$\n",
    "\n",
    "\n",
    "where $\\lambda_j\\in\\mathbf{R}, \\mathbf{v}\\in\\mathbf{R^2}$ and $\\mathbf{u_{j}}$'s are basis vectors. An example $\\begin{bmatrix}3\\\\4\\end{bmatrix} = 3\\color{green}{\\begin{bmatrix}1\\\\0\\end{bmatrix}} + 4\\color{red}{\\begin{bmatrix}0\\\\1\\end{bmatrix}}$. Let's see it visually!\n",
    "\n",
    "\n"
   ]
  },
  {
   "cell_type": "code",
   "execution_count": 5,
   "metadata": {},
   "outputs": [],
   "source": [
    "import sys\n",
    "from IPython.display import HTML\n",
    "from IPython.display import Image\n",
    "sys.path.append('../../../scripts/')\n",
    "from plot_helper import *\n"
   ]
  },
  {
   "cell_type": "code",
   "execution_count": 3,
   "metadata": {},
   "outputs": [
    {
     "data": {
      "image/png": "[encoded data removed]",
      "text/plain": [
       "<Figure size 800x400 with 2 Axes>"
      ]
     },
     "metadata": {
      "needs_background": "light"
     },
     "output_type": "display_data"
    }
   ],
   "source": [
    "A = numpy.array([[3,0], [0,4]])\n",
    "plot_linear_transformation(A)"
   ]
  },
  {
   "cell_type": "code",
   "execution_count": 27,
   "metadata": {},
   "outputs": [
    {
     "data": {
      "image/png": "[encoded data removed]",
      "text/plain": [
       "<Figure size 400x400 with 1 Axes>"
      ]
     },
     "metadata": {
      "needs_background": "light"
     },
     "output_type": "display_data"
    }
   ],
   "source": [
    "import numpy as np\n",
    "vec = np.array([3,4])\n",
    "plot_vector([vec])"
   ]
  },
  {
   "cell_type": "markdown",
   "metadata": {},
   "source": [
    "Minimum number of vectors form a set which spans a vector space is called a basis. Standard unit vectors $\\color{green}{\\begin{bmatrix}1\\\\0\\end{bmatrix}}$, $\\color{red}{\\begin{bmatrix}0\\\\1\\end{bmatrix}}$ are an example of basis, another example is set of $\\color{green}{\\begin{bmatrix}1\\\\0\\end{bmatrix}}$, $\\color{red}{\\begin{bmatrix}1\\\\1\\end{bmatrix}}$. Key takeaway is that **there are multiple valid bases for vector spaces.**"
   ]
  },
  {
   "cell_type": "markdown",
   "metadata": {},
   "source": [
    "## Transformation Based on Different Basis\n",
    "\n",
    "Earlier we represented matrices as linear maps on how they transform standard unit vectors. By now we know that there can be multiple valid bases for a vector space. Using this information we can represent matrices based on they they transform any other basis.\n",
    "\n",
    "$$\\mathbf{A}={\\begin{bmatrix}f(\\color{green}{\\begin{bmatrix}1\\\\0\\end{bmatrix}}) f(\\color{red}{\\begin{bmatrix}0\\\\1\\end{bmatrix}})\\end{bmatrix}}\\\\\\mathbf{A_b}={\\begin{bmatrix}f(\\color{green}{\\begin{bmatrix}1\\\\0\\end{bmatrix}})_b f(\\color{red}{\\begin{bmatrix}1\\\\1\\end{bmatrix}})_b\\end{bmatrix}}\\\\\\mathbf{A_b}={\\begin{bmatrix}f(\\color{green}{\\mathbf{b1}})&_b f(\\color{red}{\\mathbf{b2}})_b\\end{bmatrix}}$$\n"
   ]
  },
  {
   "cell_type": "markdown",
   "metadata": {},
   "source": [
    "## Power of Diagonals\n",
    "\n",
    "The reason why we take a look at definition of basis and how matrices can be expressed in terms of different bases was to apply change of basis to a matrix. Change of basis is a methodology where we can make operations related to matrices easier. Let's say that we want to apply a matrix to a vector multiple times. That would be $$\\mathbf{A}.\\mathbf{A}.\\mathbf{A}.\\mathbf{A}.\\mathbf{A}.\\mathbf{v}$$. How can we implement such an operation? Well the answer is easy! If you consider the definition of matrix multiplication, we need to have a loop that traverses each element of the matrix and the vector multiple times. Okay we know how to implement such an operation but remember this loop can be quite expensive!\n",
    "\n",
    "However imagine now that the same matrix can be expressed as follows ${\\begin{bmatrix}\\lambda_1&0\\\\0&\\lambda_2\\end{bmatrix}}$ where $\\lambda_j\\in\\mathbf{R}$ j=1,2. Now the same operation above is as easy as taking exponents. $$\\mathbf{A}.\\mathbf{A}={\\begin{bmatrix}\\lambda_1^2&0\\\\0&\\lambda_2^2\\end{bmatrix}}$$. More generally, $$\\mathbf{A}^n={\\begin{bmatrix}\\lambda_1^n&0\\\\0&\\lambda_2^n\\end{bmatrix}}$$. As you can see, this is rather an easier operation to perform. This form of a matrix is called *diagonal matrix*.\n"
   ]
  },
  {
   "cell_type": "markdown",
   "metadata": {},
   "source": [
    "## Eigenvectors\n",
    "\n",
    "We by now know that getting a matrix into diagonal form can be quite helpful. But then how can we do that? There are [ways](https://en.wikipedia.org/wiki/Eigenvalues_and_eigenvectors) to do that but let's understand the process intiutively. We know that a matrix can be expressed in terms of how it transforms basis vectors. $$\\mathbf{A_b}={\\begin{bmatrix}f(\\mathbf{b1})_b&f(\\mathbf{b2})_b\\end{bmatrix}}={\\begin{bmatrix}\\lambda_1&0\\\\0&\\lambda_2\\end{bmatrix}}$$ \n",
    "\n",
    "This implies:\n",
    "\n",
    "- $f(b1)_b = \\begin{bmatrix}\\lambda_1\\\\0\\end{bmatrix}_b=\\lambda_1*b_1+0*b_2$\n",
    "- $f(b2)_b = \\begin{bmatrix}0\\\\\\lambda_2\\end{bmatrix}_b=0*b_1+\\lambda_2*b_2$\n",
    "\n",
    "where $b_1,b_2$ form a basis.\n",
    "\n",
    "Then if we can find a basis that can satisfy the set of equations above, we can diagonalize the matrix. There are [ways](https://en.wikipedia.org/wiki/Eigenvalues_and_eigenvectors) to calculate such vectors but calculating is not our main focus in this post. These vectors in fact are called **eigenvectors** of a matrix. They satisfy the following equation which follows the equations above: $$f(\\mathbf{v})=\\lambda*\\mathbf{v} \\\\ or \\\\ \\mathbf{A}*\\mathbf{v}=\\lambda*\\mathbf{v}$$\n",
    "\n",
    "Assuming that we know eigen basis, original problem of multiplication of the matrix and the vector multiple times becomes much **easier**: $$\\mathbf{A}.\\mathbf{A}.\\mathbf{A}.\\mathbf{A}.\\mathbf{A}.\\mathbf{v}\\\\={\\begin{bmatrix}\\lambda_1^5&0\\\\0&\\lambda_2^5\\end{bmatrix}}$$\n",
    "\n",
    "\n"
   ]
  },
  {
   "cell_type": "markdown",
   "metadata": {},
   "source": [
    "## Beyond Mathematical Equations\n",
    "\n",
    "Let's now pause a little bit and try to understand what is so special about eigenvectors for any matrix. By now we know that matrices are linear transformations that perform rotations and/or scalings. Matrices however can be quite complex and big, i.e think about high dimensional matrices in this case. We also know that matrices transform vectors so that vectors rotate, however eigenvectors do not. They simply stretch along the same line and never rotate. You can also understand from the formula: $$\\mathbf{A}*\\mathbf{v}=\\lambda*\\mathbf{v}$$\n",
    "\n",
    "When eigenvectors are transformed by the matrix, they remain on the same line, they don't rotate. This is very powerful! Because then you can represent the same matrix using only it's eigenvectors to understand the affect of the transformation like the axis along which it rotates. If you want to see a visual explanation, you can check out the following video by [3Blue1Brown](https://www.google.com/search?q=3blue1brown+youtube&oq=3blue1brown+youtube&aqs=chrome.0.0l6.2679j0j7&sourceid=chrome&ie=UTF-8).\n",
    "\n"
   ]
  },
  {
   "cell_type": "code",
   "execution_count": 4,
   "metadata": {
    "tags": [
     "hidecode",
     "hide-input",
     "hide_code"
    ]
   },
   "outputs": [
    {
     "data": {
      "text/html": [
       "<iframe width=\"560\" height=\"315\" src=\"https://www.youtube.com/embed/PFDu9oVAE-g?rel=0&amp;controls=0&amp;showinfo=0\" frameborder=\"0\" allowfullscreen></iframe><style>\n",
       ".output {\n",
       "    align-items: center;\n",
       "}\n",
       "</style>"
      ],
      "text/plain": [
       "<IPython.core.display.HTML object>"
      ]
     },
     "execution_count": 4,
     "metadata": {},
     "output_type": "execute_result"
    }
   ],
   "source": [
    "# Youtube\n",
    "CSS = \"\"\"\n",
    ".output {\n",
    "    align-items: center;\n",
    "}\n",
    "\"\"\"\n",
    "HTML('<iframe width=\"560\" height=\"315\" src=\"https://www.youtube.com/embed/PFDu9oVAE-g?rel=0&amp;controls=0&amp;showinfo=0\" frameborder=\"0\" allowfullscreen></iframe><style>{}</style>'.format(CSS))\n"
   ]
  },
  {
   "cell_type": "markdown",
   "metadata": {},
   "source": [
    "## PageRank Algorithm and Eigenvectors\n",
    "\n",
    "\n",
    "\n"
   ]
  },
  {
   "cell_type": "markdown",
   "metadata": {},
   "source": [
    "Now that we understand what eigenvectors are, it is time to see an application of it. We are going to see how eigenvectors are used in an algorithm called PageRank. The algoritm was Larry Page’s phD thesis while at Stanford. It makes it possible for us to enter keywords of our search on Google's search box and get a list of pages ranked by the relevance to our search. Here is the [original paper](http://ilpubs.stanford.edu:8090/422/1/1999-66.pdf)."
   ]
  },
  {
   "cell_type": "markdown",
   "metadata": {},
   "source": [
    "Imagine a setting where every node represents a page and every arrow represents a link to another web page. We can construct a mini model of internet."
   ]
  },
  {
   "cell_type": "code",
   "execution_count": 10,
   "metadata": {},
   "outputs": [
    {
     "data": {
      "image/png": "[encoded data removed]",
      "text/plain": [
       "<IPython.core.display.Image object>"
      ]
     },
     "execution_count": 10,
     "metadata": {
      "image/png": {
       "height": 200,
       "width": 200
      }
     },
     "output_type": "execute_result"
    }
   ],
   "source": [
    "PATH = \"/Users/colendi/Documents/myblog/images/posts/powerful-eigen-vectors/\"\n",
    "Image(filename = PATH + \"pagerank_diagram.drawio.png\", width=200, height=200)"
   ]
  },
  {
   "cell_type": "markdown",
   "metadata": {},
   "source": [
    "In this setting, we can represent links on a page as a vector of numbers. Such that link structure on web page A can be written as: $\\mathbf{L_A}=\\begin{bmatrix}0&1/3&1/3&1/3\\end{bmatrix}$. Each link in this vector is normalized by the total number of outward links from the page such that probability of getting to any page sums to 1. Lets write link vector for each of the web pages.\n",
    "\n",
    "$$\\mathbf{L_A}=\\begin{bmatrix}0&1/3&1/3&1/3\\end{bmatrix}\\\\\\mathbf{L_B}=\\begin{bmatrix}1/2&0&0&1/2\\end{bmatrix}\\\\\\mathbf{L_C}=\\begin{bmatrix}0&0&0&1\\end{bmatrix}\\\\\\mathbf{L_D}=\\begin{bmatrix}0&1/2&1/2&0\\end{bmatrix}$$\n",
    "\n",
    "Now that we have link vector for each of the web pages, let's create a link matrix $\\mathbf{L}\\in\\mathbf{R^{4x4}}$, where respective web page link vectors are column vectors.\n",
    "\n",
    "$$\\mathbf{L}=\\begin{bmatrix}0&1/2&0&0\\\\1/3&0&0&1/2\\\\1/3&0&0&1/2\\\\1/3&1/2&1&0\\end{bmatrix}$$\n",
    "\n",
    "Let's now inspect the matrix. As you can see this matrix represents probability of getting to any web page from any other. The matrix is referential meaning that in order to get the probability of being in A you need calculate how to get to B. You may also recognize that row vectors represent the probability of getting to any web page with respect to the origin i.e inward link probability.\n",
    "\n",
    "How do we calculate rank using this matrix? For any webpage, we need to multiply rank of the pages pointing to it(inward link probability) with the rank of these pages. Let's calculate the rank for webpage A and then extend it to calculate all others. *As a side note, in machine learning in general you first model your problem/equation for only 1 instance and then extend it to all the other instances*. \n",
    "\n",
    "$$r=\\sum\\limits_{j=1}^{n}r_j*\\mathbf{L_{A,j}}$$ ,where $r_j\\in\\mathbf{R}$ is rank of web page j pointing to A and $\\mathbf{L_{A}}$ is the first row of the link matrix $\\mathbf{L}$. In order to find ranks of all web pages(for all instances), we need to multiply Link matrix $\\mathbf{L}$ with rank vector $\\mathbf{r}$. Now we have\n",
    "\n",
    "$$\\mathbf{r} = \\mathbf{L}*\\mathbf{r}$$\n",
    "\n",
    "Clearly we don't know $\\mathbf{r}$ at the begining of our analysis therefore we will assume that ranks of web pages are equal which are normalized by the total number of web pages.$\\mathbf{r_0}=\\begin{bmatrix}1/4\\\\1/4\\\\1/4\\\\1/4\\end{bmatrix}$. We can now start to calculate rank vector $\\mathbf{r}$ of webpages. We will do it iteratively. At eacy step we are going to multiply link matrix $\\mathbf{L}$ with rank vector $\\mathbf{r}$ to find updated rank vector $\\mathbf{r}$. The algorithm will finish when the rank vector $\\mathbf{r}$ stops changing. That is\n",
    "\n",
    "$$\\mathbf{r^{i+1}} = \\mathbf{L}*\\mathbf{r^{i}}$$\n",
    "\n",
    "Did you realize something about the equation above? Yes you are right, this is the equation of an eigenvector with an eigenvalue 1. Rank vector $\\mathbf{r}$ that we are trying to find is the eigenvector of matrix $\\mathbf{L}$. This is amazing! Let's find out the rank vector $\\mathbf{r}$ by iteratively applying equation $\\mathbf{r} = \\mathbf{L}*\\mathbf{r}$. \n"
   ]
  },
  {
   "cell_type": "code",
   "execution_count": 31,
   "metadata": {},
   "outputs": [
    {
     "name": "stdout",
     "output_type": "stream",
     "text": [
      "[0.125      0.20833333 0.20833333 0.45833333]  rank vector at iteration 1\n",
      "\n",
      "[0.10416667 0.27083333 0.27083333 0.35416667]  rank vector at iteration 2\n",
      "\n",
      "[0.13541667 0.21180556 0.21180556 0.44097222]  rank vector at iteration 3\n",
      "\n",
      "[0.10590278 0.265625   0.265625   0.36284722]  rank vector at iteration 4\n",
      "\n",
      "[0.1328125  0.21672454 0.21672454 0.43373843]  rank vector at iteration 5\n",
      "\n",
      "[0.10836227 0.26114005 0.26114005 0.36935764]  rank vector at iteration 6\n",
      "\n",
      "[0.13057002 0.22079958 0.22079958 0.42783083]  rank vector at iteration 7\n",
      "\n",
      "[0.11039979 0.25743875 0.25743875 0.3747227 ]  rank vector at iteration 8\n",
      "\n",
      "[0.12871938 0.22416128 0.22416128 0.42295806]  rank vector at iteration 9\n",
      "\n",
      "[0.11208064 0.25438549 0.25438549 0.37914838]  rank vector at iteration 10\n",
      "\n",
      "[0.12719274 0.2269344  0.2269344  0.41893845]  rank vector at iteration 11\n",
      "\n",
      "[0.1134672  0.25186681 0.25186681 0.38279919]  rank vector at iteration 12\n",
      "\n",
      "[0.1259334  0.22922199 0.22922199 0.41562261]  rank vector at iteration 13\n",
      "\n",
      "[0.114611   0.2497891  0.2497891  0.38581079]  rank vector at iteration 14\n",
      "\n",
      "[0.12489455 0.23110906 0.23110906 0.41288732]  rank vector at iteration 15\n",
      "\n",
      "[0.11555453 0.24807518 0.24807518 0.38829511]  rank vector at iteration 16\n",
      "\n",
      "[0.12403759 0.23266573 0.23266573 0.41063095]  rank vector at iteration 17\n",
      "\n",
      "[0.11633287 0.24666134 0.24666134 0.39034446]  rank vector at iteration 18\n",
      "\n",
      "[0.12333067 0.23394985 0.23394985 0.40876963]  rank vector at iteration 19\n",
      "\n",
      "[0.11697493 0.24549504 0.24549504 0.392035  ]  rank vector at iteration 20\n",
      "\n",
      "[0.12274752 0.23500914 0.23500914 0.4072342 ]  rank vector at iteration 21\n",
      "\n",
      "[0.11750457 0.24453294 0.24453294 0.39342955]  rank vector at iteration 22\n",
      "\n",
      "[0.12226647 0.23588297 0.23588297 0.4059676 ]  rank vector at iteration 23\n",
      "\n",
      "[0.11794148 0.24373929 0.24373929 0.39457994]  rank vector at iteration 24\n",
      "\n",
      "[0.12186964 0.2366038  0.2366038  0.40492276]  rank vector at iteration 25\n",
      "\n",
      "[0.1183019  0.24308459 0.24308459 0.39552891]  rank vector at iteration 26\n",
      "\n",
      "[0.1215423  0.23719842 0.23719842 0.40406086]  rank vector at iteration 27\n",
      "\n",
      "[0.11859921 0.24254453 0.24254453 0.39631173]  rank vector at iteration 28\n",
      "\n",
      "[0.12127226 0.23768894 0.23768894 0.40334986]  rank vector at iteration 29\n",
      "\n",
      "[0.11884447 0.24209902 0.24209902 0.39695749]  rank vector at iteration 30\n",
      "\n",
      "[0.12104951 0.23809357 0.23809357 0.40276335]  rank vector at iteration 31\n",
      "\n",
      "[0.11904678 0.24173151 0.24173151 0.39749019]  rank vector at iteration 32\n",
      "\n",
      "[0.12086576 0.23842736 0.23842736 0.40227953]  rank vector at iteration 33\n",
      "\n",
      "[0.11921368 0.24142835 0.24142835 0.39792962]  rank vector at iteration 34\n",
      "\n",
      "[0.12071418 0.2387027  0.2387027  0.40188042]  rank vector at iteration 35\n",
      "\n",
      "[0.11935135 0.24117827 0.24117827 0.39829211]  rank vector at iteration 36\n",
      "\n",
      "[0.12058913 0.23892984 0.23892984 0.40155119]  rank vector at iteration 37\n",
      "\n",
      "Solution is:  [0.12058913 0.23892984 0.23892984 0.40155119]\n"
     ]
    }
   ],
   "source": [
    "import numpy as np\n",
    "def find_solution(L,initial_r):\n",
    "    r = initial_r\n",
    "    index = 0\n",
    "    while True:\n",
    "        index += 1\n",
    "        new_r = np.dot(L,r)\n",
    "        if np.allclose(new_r,r,rtol=1e-02):\n",
    "            break\n",
    "        r = new_r\n",
    "        print(r,\" rank vector at iteration %s\\n\"%index)\n",
    "    return r\n",
    "\n",
    "L = np.array([[0,1/2,0,0],[1/3,0,0,1/2],[1/3,0,0,1/2],[1/3,1/2,1,0]])\n",
    "r = np.array([1/4,1/4,1/4,1/4])\n",
    "print(\"Solution is: \",find_solution(L,r))\n",
    "\n"
   ]
  },
  {
   "cell_type": "markdown",
   "metadata": {},
   "source": [
    "Yeeyyyyy! We just found out that rankings for our pages for our mini model of internet. Our ranking is D > C=B > A. You can see how eigenvectors are central to an algorithm that we use pretty much everyday in our lives!\n",
    "\n",
    "## Wrap Up\n",
    "\n",
    "In this post, we saw that eigenvectors characterize matrices. Knowing eigenvectors of matrices, we can understand the kind of transformation matrices apply to any given input. Understanding eigenvectors is key to many ideas in machine learning! Eigenvectors are frequently used in many applications like [PageRank algorithm](http://ilpubs.stanford.edu:8090/422/1/1999-66.pdf) and [PCA](https://en.wikipedia.org/wiki/Principal_component_analysis). With that, we have reached the end of this post, we have covered a lot and I really enjoyed going over a few important concepts with you. I hope that you enjoy the post as well :) If you have any questions about the post or data science in general, you can find me on [Linkedin](https://www.linkedin.com/in/koseoglubaran). I would highly appreciate to get any comment, question or just to have a chat about data science and topics around it with you! See you at the next one..."
   ]
  }
 ],
 "metadata": {
  "colab": {
   "name": "03-04-More Matrices.ipynb",
   "provenance": []
  },
  "kernelspec": {
   "display_name": "Python 3",
   "language": "python",
   "name": "python3"
  },
  "language_info": {
   "codemirror_mode": {
    "name": "ipython",
    "version": 3
   },
   "file_extension": ".py",
   "mimetype": "text/x-python",
   "name": "python",
   "nbconvert_exporter": "python",
   "pygments_lexer": "ipython3",
   "version": "3.8.5"
  }
 },
 "nbformat": 4,
 "nbformat_minor": 4
}
